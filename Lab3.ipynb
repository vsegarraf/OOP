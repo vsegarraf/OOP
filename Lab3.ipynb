{
 "cells": [
  {
   "cell_type": "markdown",
   "metadata": {},
   "source": [
    "## Object Oriented Programming"
   ]
  },
  {
   "cell_type": "markdown",
   "metadata": {},
   "source": [
    "### Basic Inheritance"
   ]
  },
  {
   "cell_type": "markdown",
   "metadata": {},
   "source": [
    "Syntax:\n",
    "\n",
    "class MySubClass(object):\n",
    "    pass\n",
    "\n",
    "\n",
    "MySubClass is the subclass.\n",
    "object is the name of the parent class/superclass inside parentheses after the class name."
   ]
  },
  {
   "cell_type": "markdown",
   "metadata": {},
   "source": [
    "###### EXERCISE 1: \n",
    "Create a superclass called \"Person\" with a subclass. \"Student\" class inherit from Person."
   ]
  },
  {
   "cell_type": "code",
   "execution_count": 14,
   "metadata": {},
   "outputs": [],
   "source": [
    "class Person:\n",
    "    def __init__(self, fname):\n",
    "        self.firstname = fname\n",
    "    \n",
    "    def printname(self):\n",
    "        print(self.firstname)"
   ]
  },
  {
   "cell_type": "code",
   "execution_count": 15,
   "metadata": {},
   "outputs": [],
   "source": [
    "class Student(Person):\n",
    "    pass"
   ]
  },
  {
   "cell_type": "code",
   "execution_count": 16,
   "metadata": {},
   "outputs": [],
   "source": [
    "x = Student(\"Mike\")"
   ]
  },
  {
   "cell_type": "code",
   "execution_count": 17,
   "metadata": {},
   "outputs": [
    {
     "name": "stdout",
     "output_type": "stream",
     "text": [
      "Mike\n"
     ]
    }
   ],
   "source": [
    "Person.printname(x)"
   ]
  },
  {
   "cell_type": "markdown",
   "metadata": {},
   "source": [
    "###### EXERCISE 2: \n",
    "Create a superclass called \"Fish\" with two class variables (first_name, last_name).\n",
    "Add the methods swim() and swim_backwards() to the Fish class."
   ]
  },
  {
   "cell_type": "code",
   "execution_count": 42,
   "metadata": {},
   "outputs": [],
   "source": [
    "class Fish:\n",
    "    def __init__(self, first_name, last_name=\"Fish\"):  #We have initialized our last_name variable with the string \"Fish\"\n",
    "        self.first_name = first_name\n",
    "        self.last_name = last_name\n",
    "    \n",
    "    def swim(self):\n",
    "        print(\"The fish is swimming.\")\n",
    "\n",
    "    def swim_backwards(self):\n",
    "        print(\"The fish can swim backwards.\")"
   ]
  },
  {
   "cell_type": "code",
   "execution_count": 40,
   "metadata": {},
   "outputs": [],
   "source": [
    "#create a Clownfish child class that subclasses the Fish class.\n",
    "#Clownfish class will be able to make use of the swim() method declared in Fish without needing to declare it.\n",
    "\n",
    "class Clownfish(Fish):\n",
    "    pass"
   ]
  },
  {
   "cell_type": "code",
   "execution_count": 46,
   "metadata": {},
   "outputs": [
    {
     "name": "stdout",
     "output_type": "stream",
     "text": [
      "Nemo Fish\n",
      "Nemo Fish\n",
      "His name is Nemo\n",
      "The fish is swimming.\n"
     ]
    }
   ],
   "source": [
    "#create a fish1 object without having to define any additional methods.\n",
    "fish1 = Clownfish('Nemo')\n",
    "\n",
    "print(fish1.first_name, fish1.last_name)  #Nemo Fish\n",
    "\n",
    "print(fish1.first_name + ' ' + fish1.last_name) #Nemo Fish\n",
    "\n",
    "print('His name is', fish1.first_name) #His name is Nemo\n",
    "\n",
    "fish1.swim()"
   ]
  },
  {
   "cell_type": "code",
   "execution_count": 45,
   "metadata": {},
   "outputs": [],
   "source": [
    "#Clownfish class with a method\n",
    "class Clownfish(Fish):\n",
    "\n",
    "    def live_with_anemone(self):\n",
    "        print(\"The clownfish is coexisting with sea anemone.\")"
   ]
  },
  {
   "cell_type": "code",
   "execution_count": 47,
   "metadata": {},
   "outputs": [
    {
     "name": "stdout",
     "output_type": "stream",
     "text": [
      "The clownfish is coexisting with sea anemone.\n"
     ]
    }
   ],
   "source": [
    "fish1.live_with_anemone()"
   ]
  },
  {
   "cell_type": "markdown",
   "metadata": {},
   "source": [
    "###### EXERCISE 3: \n",
    "Create a superclass called \"Bank_account\" with 2 class variables (balance, amount_deposit).\n",
    "Add the methods get_balance(), deposit() and withdraw() to the Bank_account class."
   ]
  },
  {
   "cell_type": "code",
   "execution_count": 66,
   "metadata": {},
   "outputs": [],
   "source": [
    "class Bank_account:\n",
    "    def __init__(self, balance, amount_deposit):\n",
    "        self.balance = balance\n",
    "        self.amount_deposit = amount_deposit\n",
    "        \n",
    "    def get_balance(self):\n",
    "        print('The balance is %s' % self.balance)\n",
    "        \n",
    "    def deposit(self, amount_deposit ):\n",
    "        print('The deposit is %s' % self.amount_deposit)\n",
    "\n",
    "\n",
    "    def withdraw(self):\n",
    "        print('The balance is %s' % self.balance)\n"
   ]
  },
  {
   "cell_type": "code",
   "execution_count": 67,
   "metadata": {},
   "outputs": [],
   "source": [
    "#create a Saving_account child class that subclasses the Bank_account class.\n",
    "class Saving_account (Bank_account):\n",
    "    interest_rate = 5\n",
    "\n",
    "    def Saving_account (self):\n",
    "        print ('example of function in subclass')\n"
   ]
  },
  {
   "cell_type": "code",
   "execution_count": 70,
   "metadata": {},
   "outputs": [
    {
     "name": "stdout",
     "output_type": "stream",
     "text": [
      "1000\n",
      "The balance is 1000\n",
      "The balance is 1000\n",
      "The deposit is 0\n",
      "The withdraw is 1000\n",
      "example of function in subclass\n"
     ]
    }
   ],
   "source": [
    "account1 = Saving_account(1000, 0)\n",
    "\n",
    "print(account1.balance) \n",
    "\n",
    "print('The balance is', account1.balance) \n",
    "\n",
    "account1.get_balance()\n",
    "\n",
    "account1.deposit(200)\n",
    "\n",
    "account1.withdraw()\n",
    "\n",
    "account1.Saving_account()\n",
    "\n"
   ]
  },
  {
   "attachments": {},
   "cell_type": "markdown",
   "metadata": {},
   "source": [
    "###### EXERCISE 4: \n",
    "Create a superclass called \"Polygon\".\n",
    "This Polygon class has data attributes to store the number of sides (n) and magnitude of each side as a list called sides.\n",
    "Add two methods:\n",
    "The inputSides() method takes in the magnitude of each side.\n",
    "The dispSides() method displays these side lengths."
   ]
  },
  {
   "cell_type": "code",
   "execution_count": 73,
   "metadata": {},
   "outputs": [],
   "source": [
    "class Polygon:\n",
    "    def __init__(self, no_sides):\n",
    "        self.n = no_sides\n",
    "        self.sides = [0 for i in range(no_sides)]\n",
    "\n",
    "    def inputSides(self):\n",
    "        self.sides = [float(input(\"Enter side \"+str(i+1)+\" : \")) for i in range(self.n)]\n",
    "        ## float(input('')) --- reading a value, converting to float\n",
    "        #The str() function converts values to a string form so they can be combined with other strings.\n",
    "\n",
    "    def dispSides(self):\n",
    "        for i in range(self.n):\n",
    "            print(\"Side\",i+1,\"is\",self.sides[i])"
   ]
  },
  {
   "cell_type": "code",
   "execution_count": 75,
   "metadata": {},
   "outputs": [
    {
     "name": "stdout",
     "output_type": "stream",
     "text": [
      "Enter side 1 : 2\n",
      "Enter side 2 : 2\n",
      "Enter side 3 : 3\n"
     ]
    }
   ],
   "source": [
    "p1 = Polygon(3)\n",
    "p1.inputSides()\n"
   ]
  },
  {
   "cell_type": "code",
   "execution_count": 76,
   "metadata": {},
   "outputs": [
    {
     "name": "stdout",
     "output_type": "stream",
     "text": [
      "Side 1 is 2.0\n",
      "Side 2 is 2.0\n",
      "Side 3 is 3.0\n"
     ]
    }
   ],
   "source": [
    "p1.dispSides()"
   ]
  },
  {
   "cell_type": "markdown",
   "metadata": {},
   "source": [
    "Create a subclass Triangle which inherits from Polygon."
   ]
  },
  {
   "cell_type": "code",
   "execution_count": 96,
   "metadata": {},
   "outputs": [],
   "source": [
    "class Triangle(Polygon):\n",
    "    def __init__(self):\n",
    "        Polygon.__init__(self,3)\n",
    "\n",
    "    def findArea(self):\n",
    "        a, b, c = self.sides\n",
    "        # calculate the semi-perimeter\n",
    "        s = (a + b + c) / 2\n",
    "        area = (s*(s-a)*(s-b)*(s-c)) ** 0.5\n",
    "        print('The area of the triangle is %0.2f' %area)\n",
    "        \n",
    "        \n",
    "        #info about print string https://en.wikipedia.org/wiki/Printf_format_string#Syntax"
   ]
  },
  {
   "cell_type": "code",
   "execution_count": 97,
   "metadata": {},
   "outputs": [],
   "source": [
    "t1 = Triangle()"
   ]
  },
  {
   "cell_type": "code",
   "execution_count": 98,
   "metadata": {},
   "outputs": [
    {
     "name": "stdout",
     "output_type": "stream",
     "text": [
      "Enter side 1 : 3\n",
      "Enter side 2 : 3\n",
      "Enter side 3 : 3\n",
      "Side 1 is 3.0\n",
      "Side 2 is 3.0\n",
      "Side 3 is 3.0\n",
      "The area of the triangle is 3.90\n"
     ]
    }
   ],
   "source": [
    "t1.inputSides()\n",
    "\n",
    "t1.dispSides()\n",
    "\n",
    "t1.findArea()"
   ]
  },
  {
   "cell_type": "markdown",
   "metadata": {},
   "source": [
    "### Abstraction"
   ]
  },
  {
   "cell_type": "markdown",
   "metadata": {},
   "source": [
    "Import the abc module, which provides the base for defining Abstract Base classes (ABC). \n",
    "The ABC works by decorating methods of the base class as abstract."
   ]
  },
  {
   "cell_type": "code",
   "execution_count": 108,
   "metadata": {},
   "outputs": [],
   "source": [
    "from abc import ABC, abstractmethod\n",
    "\n",
    "class Car(ABC):   \n",
    "    def mileage(self):   \n",
    "        pass\n",
    "\n",
    "    \n",
    "class Tesla(Car):   \n",
    "    def mileage(self):   \n",
    "        print(\"The mileage is 30kmph\")   \n",
    "\n",
    "class Suzuki(Car):   \n",
    "    def mileage(self):   \n",
    "        print(\"The mileage is 25kmph \")   \n",
    "\n",
    "class Duster(Car):   \n",
    "     def mileage(self):   \n",
    "          print(\"The mileage is 24kmph \")   \n",
    "        \n",
    "        \n",
    "class Renault(Car):   \n",
    "    def mileage(self):   \n",
    "            print(\"The mileage is 27kmph \")   "
   ]
  },
  {
   "cell_type": "code",
   "execution_count": 109,
   "metadata": {},
   "outputs": [
    {
     "name": "stdout",
     "output_type": "stream",
     "text": [
      "The mileage is 30kmph\n"
     ]
    }
   ],
   "source": [
    "t= Tesla ()\n",
    "\n",
    "t.mileage()"
   ]
  },
  {
   "cell_type": "code",
   "execution_count": 110,
   "metadata": {},
   "outputs": [
    {
     "name": "stdout",
     "output_type": "stream",
     "text": [
      "The mileage is 27kmph \n"
     ]
    }
   ],
   "source": [
    "r = Renault()   \n",
    "r.mileage()"
   ]
  },
  {
   "cell_type": "code",
   "execution_count": 111,
   "metadata": {},
   "outputs": [
    {
     "name": "stdout",
     "output_type": "stream",
     "text": [
      "The mileage is 25kmph \n"
     ]
    }
   ],
   "source": [
    "s = Suzuki()   \n",
    "s.mileage()   "
   ]
  },
  {
   "cell_type": "code",
   "execution_count": 112,
   "metadata": {},
   "outputs": [
    {
     "name": "stdout",
     "output_type": "stream",
     "text": [
      "The mileage is 24kmph \n"
     ]
    }
   ],
   "source": [
    "d = Duster()   \n",
    "d.mileage()  "
   ]
  }
 ],
 "metadata": {
  "kernelspec": {
   "display_name": "Python 3",
   "language": "python",
   "name": "python3"
  },
  "language_info": {
   "codemirror_mode": {
    "name": "ipython",
    "version": 3
   },
   "file_extension": ".py",
   "mimetype": "text/x-python",
   "name": "python",
   "nbconvert_exporter": "python",
   "pygments_lexer": "ipython3",
   "version": "3.7.3"
  }
 },
 "nbformat": 4,
 "nbformat_minor": 2
}

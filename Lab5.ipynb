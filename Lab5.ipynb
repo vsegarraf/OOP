{
 "cells": [
  {
   "cell_type": "markdown",
   "metadata": {},
   "source": [
    "##### Classes, objects, and attributes"
   ]
  },
  {
   "cell_type": "code",
   "execution_count": 6,
   "metadata": {},
   "outputs": [],
   "source": [
    "class Circle:\n",
    "    PI = 3.14\n",
    "    \n",
    "    def __init__(self, radius):\n",
    "        self.radius = radius"
   ]
  },
  {
   "cell_type": "code",
   "execution_count": 7,
   "metadata": {},
   "outputs": [],
   "source": [
    "mycircle = Circle(2)"
   ]
  },
  {
   "cell_type": "code",
   "execution_count": 8,
   "metadata": {},
   "outputs": [
    {
     "data": {
      "text/plain": [
       "2"
      ]
     },
     "execution_count": 8,
     "metadata": {},
     "output_type": "execute_result"
    }
   ],
   "source": [
    "mycircle.radius"
   ]
  },
  {
   "cell_type": "code",
   "execution_count": 9,
   "metadata": {},
   "outputs": [
    {
     "data": {
      "text/plain": [
       "3.14"
      ]
     },
     "execution_count": 9,
     "metadata": {},
     "output_type": "execute_result"
    }
   ],
   "source": [
    "mycircle.PI"
   ]
  },
  {
   "cell_type": "code",
   "execution_count": 10,
   "metadata": {},
   "outputs": [
    {
     "data": {
      "text/plain": [
       "3.14"
      ]
     },
     "execution_count": 10,
     "metadata": {},
     "output_type": "execute_result"
    }
   ],
   "source": [
    "Circle.PI"
   ]
  },
  {
   "cell_type": "markdown",
   "metadata": {},
   "source": [
    "##### Descriptors protocol\n",
    "Creating descriptors using class methods"
   ]
  },
  {
   "cell_type": "code",
   "execution_count": 30,
   "metadata": {},
   "outputs": [],
   "source": [
    "class Descriptor(object):\n",
    "\n",
    "    def init(self):\n",
    "        self.name = ''\n",
    "\n",
    "    def get(self, instance, owner):\n",
    "        print(instance, owner)\n",
    "        print (\"Getting: %s\" % self.name)\n",
    "        return self.name\n",
    "\n",
    "    def _set(self, instance, name):\n",
    "        print (\"Setting: %s\" % name)\n",
    "        self._name = name.title()\n",
    "\n",
    "    def __delete(self, instance):\n",
    "        print (\"Deleting: %s\" %self._name)\n",
    "        del self._name\n",
    "\n",
    "class Person(object):\n",
    "    name = Descriptor()"
   ]
  },
  {
   "cell_type": "code",
   "execution_count": 31,
   "metadata": {},
   "outputs": [],
   "source": [
    "user = Person()"
   ]
  },
  {
   "cell_type": "code",
   "execution_count": 32,
   "metadata": {},
   "outputs": [],
   "source": [
    "user.name = 'john smith'\n",
    "#Setting: john smith"
   ]
  },
  {
   "cell_type": "code",
   "execution_count": 33,
   "metadata": {},
   "outputs": [
    {
     "data": {
      "text/plain": [
       "'john smith'"
      ]
     },
     "execution_count": 33,
     "metadata": {},
     "output_type": "execute_result"
    }
   ],
   "source": [
    "user.name\n",
    "\n",
    "#Getting: John Smith"
   ]
  },
  {
   "cell_type": "code",
   "execution_count": 29,
   "metadata": {},
   "outputs": [],
   "source": [
    "del user.name\n",
    "#Deleting: John Smith"
   ]
  },
  {
   "cell_type": "markdown",
   "metadata": {},
   "source": [
    "##### EXAMPLE - Descriptor"
   ]
  },
  {
   "cell_type": "code",
   "execution_count": null,
   "metadata": {},
   "outputs": [],
   "source": [
    "class A:\n",
    "    ca_A = \"class attribute of A\"\n",
    "    def __init__(self):\n",
    "        self.ia_A = \"instance attribute of A instance\"\n",
    "class B(A):\n",
    "    ca_B = \"class attribute of B\"\n",
    "    def __init__(self):\n",
    "        super().__init__()\n",
    "        self.ia_B = \"instance attribute of A instance\"\n",
    "x = B()\n",
    "print(x.ia_B)\n",
    "print(x.ca_B)\n",
    "print(x.ia_A)\n",
    "print(x.ca_A)"
   ]
  },
  {
   "cell_type": "markdown",
   "metadata": {},
   "source": [
    "##### descriptor example - Simple"
   ]
  },
  {
   "cell_type": "code",
   "execution_count": null,
   "metadata": {},
   "outputs": [],
   "source": [
    "class SimpleDescriptor(object):\n",
    "    \"\"\"\n",
    "    A simple data descriptor that can set and return values\n",
    "    \"\"\"\n",
    "    def __init__(self, initval=None):\n",
    "        print(\"__init__ of SimpleDecorator called with initval: \", initval)\n",
    "        self.__set__(self, initval)\n",
    "    def __get__(self, instance, owner):\n",
    "        print(instance, owner)\n",
    "        print('Getting (Retrieving) self.val: ', self.val)\n",
    "        return self.val\n",
    "    def __set__(self, instance, value):\n",
    "        print('Setting self.val to ', value)\n",
    "        self.val = value\n",
    "class MyClass(object):\n",
    "    x = SimpleDescriptor(\"green\")\n",
    "m = MyClass()\n",
    "print(m.x)\n",
    "m.x = \"yellow\"\n",
    "print(m.x)"
   ]
  },
  {
   "cell_type": "markdown",
   "metadata": {},
   "source": [
    "##### Example - implementation of a property() class"
   ]
  },
  {
   "cell_type": "code",
   "execution_count": null,
   "metadata": {},
   "outputs": [],
   "source": [
    "class Property:\n",
    "    \"Emulate PyProperty_Type() in Objects/descrobject.c\"\n",
    "    def __init__(self, fget=None, fset=None, fdel=None, doc=None):\n",
    "        self.fget = fget\n",
    "        self.fset = fset\n",
    "        self.fdel = fdel\n",
    "        if doc is None and fget is not None:\n",
    "            doc = fget.__doc__\n",
    "        self.__doc__ = doc\n",
    "    def __get__(self, obj, objtype=None):\n",
    "        if obj is None:\n",
    "            return self\n",
    "        if self.fget is None:\n",
    "            raise AttributeError(\"unreadable attribute\")\n",
    "        return self.fget(obj)\n",
    "    def __set__(self, obj, value):\n",
    "        if self.fset is None:\n",
    "            raise AttributeError(\"can't set attribute\")\n",
    "        self.fset(obj, value)\n",
    "    def __delete__(self, obj):\n",
    "        if self.fdel is None:\n",
    "            raise AttributeError(\"can't delete attribute\")\n",
    "        self.fdel(obj)\n",
    "    def getter(self, fget):\n",
    "        return type(self)(fget, self.fset, self.fdel, self.__doc__)\n",
    "    def setter(self, fset):\n",
    "        return type(self)(self.fget, fset, self.fdel, self.__doc__)\n",
    "    def deleter(self, fdel):\n",
    "        return type(self)(self.fget, self.fset, fdel, self.__doc__)"
   ]
  },
  {
   "cell_type": "markdown",
   "metadata": {},
   "source": [
    "##### Example 2 - Property implementation"
   ]
  },
  {
   "cell_type": "code",
   "execution_count": null,
   "metadata": {},
   "outputs": [],
   "source": [
    "class Property:\n",
    "    \"Emulate PyProperty_Type() in Objects/descrobject.c\"\n",
    "    def __init__(self, fget=None, fset=None, fdel=None, doc=None):\n",
    "        print(\"\\n__init__ of Property called with:\")\n",
    "        print(\"fget=\" + str(fget) + \" fset=\" + str(fset) + \\\n",
    "              \" fdel=\" + str(fdel) + \" doc=\" + str(doc))\n",
    "        self.fget = fget\n",
    "        self.fset = fset\n",
    "        self.fdel = fdel\n",
    "        if doc is None and fget is not None:\n",
    "            doc = fget.__doc__\n",
    "        self.__doc__ = doc\n",
    "    def __get__(self, obj, objtype=None):\n",
    "        print(\"\\nProperty.__get__ has been called!\")\n",
    "        if obj is None:\n",
    "            return self\n",
    "        if self.fget is None:\n",
    "            raise AttributeError(\"unreadable attribute\")\n",
    "        return self.fget(obj)\n",
    "    def __set__(self, obj, value):\n",
    "        print(\"\\nProperty.__set__ has been called!\")\n",
    "        if self.fset is None:\n",
    "            raise AttributeError(\"can't set attribute\")\n",
    "        self.fset(obj, value)\n",
    "    def __delete__(self, obj):\n",
    "        print(\"\\nProperty.__delete__ has been called!\")\n",
    "        if self.fdel is None:\n",
    "            raise AttributeError(\"can't delete attribute\")\n",
    "        self.fdel(obj)\n",
    "    def getter(self, fget):\n",
    "        print(\"\\nProperty.getter has been called!\")\n",
    "        return type(self)(fget, self.fset, self.fdel, self.__doc__)\n",
    "    def setter(self, fset):\n",
    "        print(\"\\nProperty.setter has been called!\")\n",
    "        return type(self)(self.fget, fset, self.fdel, self.__doc__)\n",
    "    def deleter(self, fdel):\n",
    "        print(\"\\nProperty.deleter has been called!\")\n",
    "        return type(self)(self.fget, self.fset, fdel, self.__doc__)\n",
    "class A:\n",
    "    def __init__(self, prop):\n",
    "        self.prop = prop\n",
    "    @Property\n",
    "    def prop(self):\n",
    "        \"\"\" This will be the doc string of the property \"\"\"\n",
    "        print(\"The Property 'prop' will be returned now:\")\n",
    "        return self.__prop\n",
    "    @prop.setter\n",
    "    def prop(self, prop):\n",
    "        print(\"prop will be set\")\n",
    "        self.__prop = prop\n",
    "    def prop2_getter(self):\n",
    "        return self.__prop2\n",
    "    def prop2_setter(self, prop2):\n",
    "        self.__prop2 = prop2\n",
    "    prop2 = Property(prop2_getter, prop2_setter)\n",
    "print(\"Initializing the Property 'prop' with the value 'Python'\")\n",
    "x = A(\"Python\")\n",
    "print(\"The value is: \", x.prop)\n",
    "print(\"Reassigning the Property 'prop' to 'Python descriptors'\")\n",
    "x.prop = \"Python descriptors\"\n",
    "print(\"The value is: \", x.prop)\n",
    "print(A.prop.getter(x))\n",
    "def new_prop_setter(self, prop):\n",
    "    if prop==\"foo\":\n",
    "        self.__prop = \"foobar\"\n",
    "    else:\n",
    "        self.__prop = prop\n",
    "A.prop.setter"
   ]
  },
  {
   "cell_type": "markdown",
   "metadata": {},
   "source": [
    "##### Example - super() in single Inheritance with __init__():"
   ]
  },
  {
   "cell_type": "code",
   "execution_count": null,
   "metadata": {},
   "outputs": [],
   "source": [
    "#base class\n",
    "class State():\n",
    "   def __init__(self):\n",
    "      print(\"In the state class\")\n",
    "      self.state1= \"Main State\"\n",
    "\n",
    "#derived class\n",
    "class HappyState():\n",
    "   def __init__(self):\n",
    "      print(\"In the happystate class\")\n",
    "      self.state2= \"Happy State\"\n",
    "      super().__init__()\n",
    "\n",
    "a=HappyState()\n",
    "print(a.state1)\n",
    "print(a.state2)"
   ]
  },
  {
   "cell_type": "markdown",
   "metadata": {},
   "source": [
    "##### Example - super() with Multiple Inheritance with __init__():"
   ]
  },
  {
   "cell_type": "code",
   "execution_count": null,
   "metadata": {},
   "outputs": [],
   "source": [
    "#base class1\n",
    "class State():\n",
    "   def __init__(self):\n",
    "      print(\"In the State class\")\n",
    "      self.state1= \"Main State\"\n",
    "\n",
    "#base class2\n",
    "class Event():\n",
    "   def __init__(self):\n",
    "      print(\"In the Event class\")\n",
    "      self.event= \"Main Event\"\n",
    "\n",
    "#derived class\n",
    "class HappyState(State,Event):\n",
    "   def __init__(self):\n",
    "      print(\"In the happystate class\")\n",
    "      super().__init__()       #Only calls Base Class 1\n",
    "a=HappyState()"
   ]
  }
 ],
 "metadata": {
  "kernelspec": {
   "display_name": "Python 3",
   "language": "python",
   "name": "python3"
  },
  "language_info": {
   "codemirror_mode": {
    "name": "ipython",
    "version": 3
   },
   "file_extension": ".py",
   "mimetype": "text/x-python",
   "name": "python",
   "nbconvert_exporter": "python",
   "pygments_lexer": "ipython3",
   "version": "3.7.3"
  }
 },
 "nbformat": 4,
 "nbformat_minor": 2
}

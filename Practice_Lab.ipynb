{
 "cells": [
  {
   "cell_type": "markdown",
   "metadata": {},
   "source": [
    "##### EXERCISE 1 (JUNE 7)"
   ]
  },
  {
   "cell_type": "code",
   "execution_count": 63,
   "metadata": {},
   "outputs": [],
   "source": [
    "class bagel:\n",
    "    # Constructor\n",
    "    def __init__(self, type_bagel, price):\n",
    "        self.type_bagel = type_bagel\n",
    "        self.price = float(price)\n",
    "\n",
    "    def check_budget(self, budget):\n",
    "        # Check if the input is valid\n",
    "        if not isinstance(budget, (int, float)):\n",
    "            print('Enter a float or int')\n",
    "            exit() \n",
    "\n",
    "        if budget < 0:\n",
    "            print('Sorry you don\\'t have money')\n",
    "            exit()\n",
    "\n",
    "    def get_change(self, budget):\n",
    "        return budget - self.price\n",
    "    \n",
    "    def sell(self, budget):\n",
    "        self.check_budget(budget)\n",
    "\n",
    "        if budget >= self.price:\n",
    "            print(f'You can buy the {self.type_bagel} bagel')\n",
    "            if budget == self.price:\n",
    "                print('It\\'s complete')\n",
    "            else:\n",
    "                print(f'Here is your change {self.get_change(budget)}$')\n",
    "            exit('Thanks for your transaction')"
   ]
  },
  {
   "cell_type": "code",
   "execution_count": 64,
   "metadata": {},
   "outputs": [
    {
     "name": "stdout",
     "output_type": "stream",
     "text": [
      "What is your budget? 13\n",
      "You can buy the sesame bagel\n",
      "Here is your change {11.0}\n",
      "You can buy the cheese bagel\n",
      "Here is your change {8.0}\n",
      "You can buy the wheat bagel\n",
      "Here is your change {7.0}\n"
     ]
    }
   ],
   "source": [
    "sesame = bagel('sesame', 2)\n",
    "cheese = bagel('cheese', 5)\n",
    "wheat = bagel('wheat', 6)\n",
    "\n",
    "try:\n",
    "    user_budget = float(input('What is your budget? '))\n",
    "except ValueError:\n",
    "    exit('Please enter a number')\n",
    "    \n",
    "for bagel in [sesame, cheese, wheat]:\n",
    "    bagel.sell(user_budget)"
   ]
  },
  {
   "cell_type": "markdown",
   "metadata": {},
   "source": [
    "##### EXERCISE 2"
   ]
  },
  {
   "cell_type": "code",
   "execution_count": 5,
   "metadata": {},
   "outputs": [],
   "source": [
    "class Concatenate_String:\n",
    "    # Constructor\n",
    "    def __init__(self, str1, str2):\n",
    "        #Instance attributes\n",
    "        self.str1 = str1\n",
    "        self.str2 = str2\n",
    "\n",
    "    #The object is passing itself as a parameter\n",
    "    def unir(self):\n",
    "        print(str1+\" \"+str2)"
   ]
  },
  {
   "cell_type": "code",
   "execution_count": 12,
   "metadata": {},
   "outputs": [
    {
     "name": "stdout",
     "output_type": "stream",
     "text": [
      "Without earth would most likely be inhabitable for humans\n"
     ]
    }
   ],
   "source": [
    "cad1 = \"Without\"\n",
    "cad2 = \"earth would most likely be inhabitable for humans\"\n",
    "\n",
    "object1 = Concatenate_String(cad1, cad2)\n",
    "\n",
    "object1.unir()"
   ]
  },
  {
   "cell_type": "markdown",
   "metadata": {},
   "source": [
    "##### EXERCISE 3"
   ]
  },
  {
   "cell_type": "code",
   "execution_count": 14,
   "metadata": {},
   "outputs": [
    {
     "name": "stdout",
     "output_type": "stream",
     "text": [
      "String 1: Hello\n",
      "String 2: World\n",
      "Concatenated two different strings: Hello World\n"
     ]
    }
   ],
   "source": [
    "str1=\"Hello\"\n",
    "str2=\"World\"\n",
    "print (\"String 1:\",str1)\n",
    "print (\"String 2:\",str2)\n",
    "str=str1+' '+str2\n",
    "print(\"Concatenated two different strings:\",str)"
   ]
  },
  {
   "cell_type": "markdown",
   "metadata": {},
   "source": [
    "##### EXERCISE 4"
   ]
  },
  {
   "cell_type": "code",
   "execution_count": 65,
   "metadata": {},
   "outputs": [],
   "source": [
    "from math import pi, sqrt\n",
    "\n",
    "class Shape:\n",
    "    def __init__(self, side1, side2):\n",
    "        self.side1 = side1\n",
    "        self.side2 = side2\n",
    "        \n",
    "    def get_area(self):\n",
    "        return self.side1 * self.side2\n",
    "    \n",
    "    def __str__(self):\n",
    "        return f'The area of this {self.__class__.__name__} is: {self.get_area()}'"
   ]
  },
  {
   "cell_type": "code",
   "execution_count": 67,
   "metadata": {},
   "outputs": [
    {
     "data": {
      "text/plain": [
       "'The area of this Shape is: 120'"
      ]
     },
     "execution_count": 67,
     "metadata": {},
     "output_type": "execute_result"
    }
   ],
   "source": [
    "shape1 = Shape(8, 10)\n",
    "shape1.__str__()\n",
    "\n",
    "\n",
    "shape2 = Shape(10,12)\n",
    "shape2.__str__()"
   ]
  },
  {
   "cell_type": "code",
   "execution_count": 69,
   "metadata": {},
   "outputs": [],
   "source": [
    "import math\n",
    "\n",
    "class Circle(Shape):\n",
    "    def __init__(self, radius):\n",
    "        self.radius = radius\n",
    "    \n",
    "    def get_area(self):\n",
    "        area_circle = math.trunc(pi * (self.radius ** 2))  \n",
    "        # the trunc() function is used to remove all decimal parts from the floating-point numbers and it returns only the integer part of the number.\n",
    "        #return pi * (self.radius ** 2)\n",
    "        return area_circle"
   ]
  },
  {
   "cell_type": "code",
   "execution_count": 71,
   "metadata": {},
   "outputs": [
    {
     "data": {
      "text/plain": [
       "314"
      ]
     },
     "execution_count": 71,
     "metadata": {},
     "output_type": "execute_result"
    }
   ],
   "source": [
    "shape3 = Circle(8)\n",
    "shape3.get_area()\n",
    "\n",
    "shape4 = Circle(10)\n",
    "shape4.get_area()\n"
   ]
  },
  {
   "cell_type": "markdown",
   "metadata": {},
   "source": [
    "##### EXERCISE 5"
   ]
  },
  {
   "cell_type": "code",
   "execution_count": 61,
   "metadata": {},
   "outputs": [],
   "source": [
    "class Exercise4:\n",
    "    def __init__(self,num):\n",
    "        self.num = num\n",
    "        \n",
    "    def square(self):\n",
    "        cuadrado = self.num ** 2\n",
    "        #print(cuadrado)\n",
    "        return cuadrado\n"
   ]
  },
  {
   "cell_type": "code",
   "execution_count": 62,
   "metadata": {},
   "outputs": [
    {
     "data": {
      "text/plain": [
       "625"
      ]
     },
     "execution_count": 62,
     "metadata": {},
     "output_type": "execute_result"
    }
   ],
   "source": [
    "objExercise4 = Exercise4(25)\n",
    "\n",
    "objExercise4.square()\n"
   ]
  }
 ],
 "metadata": {
  "kernelspec": {
   "display_name": "Python 3",
   "language": "python",
   "name": "python3"
  },
  "language_info": {
   "codemirror_mode": {
    "name": "ipython",
    "version": 3
   },
   "file_extension": ".py",
   "mimetype": "text/x-python",
   "name": "python",
   "nbconvert_exporter": "python",
   "pygments_lexer": "ipython3",
   "version": "3.7.3"
  }
 },
 "nbformat": 4,
 "nbformat_minor": 2
}

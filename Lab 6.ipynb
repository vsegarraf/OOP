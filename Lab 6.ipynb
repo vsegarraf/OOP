{
 "cells": [
  {
   "cell_type": "markdown",
   "metadata": {},
   "source": [
    "#### Data Structure"
   ]
  },
  {
   "cell_type": "markdown",
   "metadata": {},
   "source": [
    "##### Tuple"
   ]
  },
  {
   "cell_type": "markdown",
   "metadata": {},
   "source": [
    "Exercise 1"
   ]
  },
  {
   "cell_type": "code",
   "execution_count": 2,
   "metadata": {},
   "outputs": [
    {
     "name": "stdout",
     "output_type": "stream",
     "text": [
      "False\n",
      "False\n",
      "(1, 1, 2, 3, 1, 2)\n",
      "1\n",
      "(1, 2)\n",
      "4\n",
      "3\n"
     ]
    }
   ],
   "source": [
    "t = (1, 1, 2, 3) #We can create a tuple by separating the values with a comma.\n",
    "\n",
    "print(4 in t)      #Check if the tuple t contains the value 4\n",
    "\n",
    "print(1 not in t)  #Check if the tuple t does not contain the value in 1\n",
    "\n",
    "print(t + (1, 2))  #Concatenate the tuples t and values (1,2). \n",
    "\n",
    "print(t[0])        #Get the element at index 0\n",
    "\n",
    "print(t[1:3])      #Get the elements from index i up to index j (excluding j) as tuple\n",
    "\n",
    "print(len(t))      #Returns the length of the tuple\n",
    "\n",
    "print(max(t))      #Returns the largest element of the tuple\n",
    "\n"
   ]
  },
  {
   "cell_type": "markdown",
   "metadata": {},
   "source": [
    "Exercise 2"
   ]
  },
  {
   "cell_type": "code",
   "execution_count": 77,
   "metadata": {},
   "outputs": [
    {
     "name": "stdout",
     "output_type": "stream",
     "text": [
      "1\n",
      "(42, 'hi')\n",
      "True\n",
      "(2, 'Python')\n",
      "2\n"
     ]
    }
   ],
   "source": [
    "t = (1, 2, 'Python', tuple(), (42, 'hi')) \n",
    "\n",
    "print(t[0])        #Get the element at index 0\n",
    "\n",
    "print(t[4])      #Get the element at index 4\n",
    "\n",
    "print(4 not in t)  #Check if the tuple t does not contain the value in 4\n",
    "\n",
    "print(t[1:3])      #Get the elements from index i up to index j (excluding j) as tuple\n",
    "\n",
    "print(len(t[4]))      #Returns the length of the tuple"
   ]
  },
  {
   "cell_type": "markdown",
   "metadata": {},
   "source": [
    "Exercise 3"
   ]
  },
  {
   "cell_type": "code",
   "execution_count": 14,
   "metadata": {},
   "outputs": [
    {
     "name": "stdout",
     "output_type": "stream",
     "text": [
      "('apple', 'banana', 'cherry')\n"
     ]
    }
   ],
   "source": [
    "#Tuple constructor\n",
    "thistuple = tuple((\"apple\", \"banana\", \"cherry\")) # note the double round-brackets\n",
    "\n",
    "print(thistuple)"
   ]
  },
  {
   "cell_type": "markdown",
   "metadata": {},
   "source": [
    "Exercise 4"
   ]
  },
  {
   "cell_type": "code",
   "execution_count": 16,
   "metadata": {},
   "outputs": [
    {
     "name": "stdout",
     "output_type": "stream",
     "text": [
      "t1 = ()\n",
      "t2 = (1, 4, 6)\n",
      "t1 = ('P', 'y', 't', 'h', 'o', 'n')\n"
     ]
    }
   ],
   "source": [
    "t1 = tuple()\n",
    "print('t1 =', t1)\n",
    "\n",
    "# creating a tuple from a list\n",
    "t2 = tuple([1, 4, 6])\n",
    "print('t2 =', t2)\n",
    "\n",
    "# creating a tuple from a string\n",
    "t1 = tuple('Python')\n",
    "print('t1 =',t1)\n",
    "\n",
    "# creating a tuple from a dictionary\n",
    "t1 = tuple({1: 'one', 2: 'two'})\n",
    "print('t1 =',t1)"
   ]
  },
  {
   "cell_type": "markdown",
   "metadata": {},
   "source": [
    "Exercise 5"
   ]
  },
  {
   "cell_type": "code",
   "execution_count": 31,
   "metadata": {},
   "outputs": [
    {
     "name": "stdout",
     "output_type": "stream",
     "text": [
      "4\n",
      "12\n",
      "(6, 8, 10)\n"
     ]
    }
   ],
   "source": [
    "#Access Tuple Items\n",
    "t2 = tuple([1, 4, 6, 8, 10, 12])\n",
    "\n",
    "print(t2[1])  #Get the element at index 1\n",
    "print(t2[-1]) #Print the last item of the tuple\n",
    "print(t2[2:5]) #Return the third, fourth, and fifth item\n",
    "print(t2[-4:-1])"
   ]
  },
  {
   "cell_type": "markdown",
   "metadata": {},
   "source": [
    "Exercise 6-a: Check if element is present in tuple using loop"
   ]
  },
  {
   "cell_type": "code",
   "execution_count": 38,
   "metadata": {},
   "outputs": [
    {
     "name": "stdout",
     "output_type": "stream",
     "text": [
      "The original tuple : (10, 4, 5, 6, 8)\n",
      "Does tuple contain required value ? : True\n"
     ]
    }
   ],
   "source": [
    "# initialize tuple\n",
    "t3 = (10, 4, 5, 6, 8)\n",
    "\n",
    "# printing original tuple\n",
    "print(\"The original tuple : \" + str(t3))\n",
    "\n",
    "# initialize N\n",
    "N = 6\n",
    "\n",
    "# Check if element is present in tuple using loop\n",
    "res = False\n",
    "for i in t3 :\n",
    "    if N == i :\n",
    "        res = True\n",
    "        break\n",
    "\n",
    "# printing result\n",
    "print(\"Does tuple contain required value ? : \" + str(res))\n"
   ]
  },
  {
   "cell_type": "markdown",
   "metadata": {},
   "source": [
    "Exercise 6-b: Check if element is present in tuple using loop"
   ]
  },
  {
   "cell_type": "code",
   "execution_count": 46,
   "metadata": {},
   "outputs": [
    {
     "name": "stdout",
     "output_type": "stream",
     "text": [
      " the element is in the t3 tuple.\n"
     ]
    }
   ],
   "source": [
    "t3 = (10, 4, 5, 6, 8)\n",
    "\n",
    "n = 4\n",
    "\n",
    "if n in t3:\n",
    "    print(\" the element is in the t3 tuple.\")"
   ]
  },
  {
   "cell_type": "markdown",
   "metadata": {},
   "source": [
    "Exercise 7: Write a Python program to create a tuple with different data types"
   ]
  },
  {
   "cell_type": "code",
   "execution_count": 10,
   "metadata": {},
   "outputs": [
    {
     "name": "stdout",
     "output_type": "stream",
     "text": [
      "('tuple', False, 3.2, 1)\n"
     ]
    }
   ],
   "source": [
    "#Create a tuple with different data types\n",
    "tuplex = (\"tuple\", False, 3.2, 1)\n",
    "\n",
    "print(tuplex)"
   ]
  },
  {
   "cell_type": "markdown",
   "metadata": {},
   "source": [
    "Exercise 8: Write a Python program to add an item in a tuple."
   ]
  },
  {
   "cell_type": "code",
   "execution_count": 11,
   "metadata": {},
   "outputs": [
    {
     "name": "stdout",
     "output_type": "stream",
     "text": [
      "(4, 6, 2, 8, 3, 1)\n",
      "(4, 6, 2, 8, 3, 1, 9)\n",
      "(4, 6, 2, 8, 3, 15, 20, 25, 4, 6, 2, 8, 3)\n",
      "(4, 6, 2, 8, 3, 15, 20, 25, 4, 6, 2, 8, 3, 30)\n"
     ]
    }
   ],
   "source": [
    "#create a tuple\n",
    "tuplex = (4, 6, 2, 8, 3, 1) \n",
    "\n",
    "print(tuplex)\n",
    "\n",
    "#tuples are immutable, so you can not add new elements\n",
    "#using merge of tuples with the + operator you can add an element and it will create a new tuple\n",
    "tuplex = tuplex + (9,)\n",
    "print(tuplex)\n",
    "\n",
    "#adding items in a specific index\n",
    "tuplex = tuplex[:5] + (15, 20, 25) + tuplex[:5]\n",
    "print(tuplex)\n",
    "\n",
    "#converting the tuple to list\n",
    "listx = list(tuplex) \n",
    "\n",
    "#use different ways to add items in list\n",
    "listx.append(30)\n",
    "tuplex = tuple(listx)\n",
    "print(tuplex)\n"
   ]
  },
  {
   "cell_type": "markdown",
   "metadata": {},
   "source": [
    "Exercise 9: Write a Python program to get the 4th element and 4th element from last of a tuple."
   ]
  },
  {
   "cell_type": "code",
   "execution_count": 12,
   "metadata": {},
   "outputs": [
    {
     "name": "stdout",
     "output_type": "stream",
     "text": [
      "('w', 3, 'r', 'e', 's', 'o', 'u', 'r', 'c', 'e')\n",
      "e\n",
      "u\n"
     ]
    }
   ],
   "source": [
    "#Get an item of the tuple\n",
    "tuplex = (\"w\", 3, \"r\", \"e\", \"s\", \"o\", \"u\", \"r\", \"c\", \"e\")\n",
    "print(tuplex)\n",
    "\n",
    "#Get item (4th element)of the tuple by index\n",
    "item = tuplex[3]\n",
    "print(item)\n",
    "\n",
    "#Get item (4th element from last)by index negative\n",
    "item1 = tuplex[-4]\n",
    "print(item1)\n"
   ]
  },
  {
   "cell_type": "markdown",
   "metadata": {},
   "source": [
    "Exercise 10:  Write a Python program to find the length of a tuple."
   ]
  },
  {
   "cell_type": "code",
   "execution_count": 13,
   "metadata": {},
   "outputs": [
    {
     "name": "stdout",
     "output_type": "stream",
     "text": [
      "('w', '3', 'r', 'e', 's', 'o', 'u', 'r', 'c', 'e')\n",
      "10\n"
     ]
    }
   ],
   "source": [
    "#create a tuple\n",
    "tuplex = tuple(\"w3resource\")\n",
    "print(tuplex)\n",
    "\n",
    "#use the len() function to known the length of tuple\n",
    "print(len(tuplex))"
   ]
  },
  {
   "cell_type": "markdown",
   "metadata": {},
   "source": [
    "##### Dictionaries"
   ]
  },
  {
   "cell_type": "markdown",
   "metadata": {},
   "source": [
    "Exercise 1"
   ]
  },
  {
   "cell_type": "code",
   "execution_count": 55,
   "metadata": {},
   "outputs": [
    {
     "name": "stdout",
     "output_type": "stream",
     "text": [
      "{'brand': 'Ford', 'model': 'Mustang', 'year': 1964, 'electric': False, 'colors': ['red', 'white', 'blue']}\n",
      "<class 'dict'>\n"
     ]
    }
   ],
   "source": [
    "\n",
    "thisdict = {\n",
    "    \"brand\": \"Ford\",      #String, int, boolean, and list data types\n",
    "    \"model\": \"Mustang\",\n",
    "    \"year\": 1964,\n",
    "    \"electric\": False,\n",
    "    \"colors\": [\"red\", \"white\", \"blue\"]\n",
    "}\n",
    "\n",
    "print(thisdict)\n",
    "\n",
    "print(type(thisdict)) #Print the data type of a dictionary"
   ]
  },
  {
   "cell_type": "code",
   "execution_count": 48,
   "metadata": {},
   "outputs": [
    {
     "name": "stdout",
     "output_type": "stream",
     "text": [
      "3\n"
     ]
    }
   ],
   "source": [
    "#print the length\n",
    "\n",
    "print(len(thisdict))"
   ]
  },
  {
   "cell_type": "code",
   "execution_count": 58,
   "metadata": {},
   "outputs": [
    {
     "name": "stdout",
     "output_type": "stream",
     "text": [
      "Mustang\n",
      "Mustang\n",
      "dict_keys(['brand', 'model', 'year', 'electric', 'colors'])\n"
     ]
    }
   ],
   "source": [
    "#Get the value of the \"model\" key:\n",
    "\n",
    "x = thisdict[\"model\"]\n",
    "\n",
    "print(x)\n",
    "\n",
    "y = thisdict.get(\"model\")\n",
    "print(y)\n",
    "\n",
    "z = thisdict.keys()\n",
    "print(z)"
   ]
  },
  {
   "cell_type": "code",
   "execution_count": 60,
   "metadata": {},
   "outputs": [
    {
     "name": "stdout",
     "output_type": "stream",
     "text": [
      "dict_keys(['brand', 'model', 'year', 'electric', 'colors'])\n",
      "dict_keys(['brand', 'model', 'year', 'electric', 'colors', 'price'])\n"
     ]
    }
   ],
   "source": [
    "#Add a new item to the original dictionary\n",
    "\n",
    "x= thisdict.keys()\n",
    "\n",
    "print(x)    #before the change\n",
    "\n",
    "\n",
    "thisdict[\"price\"] = 51000\n",
    "\n",
    "print(x)    #after the change"
   ]
  },
  {
   "cell_type": "code",
   "execution_count": 66,
   "metadata": {},
   "outputs": [
    {
     "name": "stdout",
     "output_type": "stream",
     "text": [
      "{'brand': 'Ford', 'model': 'Mustang', 'year': 1964, 'electric': False, 'colors': ['red', 'white', 'blue'], 'price': 51000, 'country': 'Canada'}\n",
      "{'brand': 'Ford', 'model': 'Mustang', 'year': 1964, 'electric': False, 'colors': ['red', 'white', 'blue'], 'price': 51000, 'country': 'Canada'}\n"
     ]
    }
   ],
   "source": [
    "#Add a new item to the original dictionary\n",
    "print(thisdict)\n",
    "\n",
    "thisdict.update({\"country\":\"Canada\"})\n",
    "\n",
    "print(thisdict)"
   ]
  },
  {
   "cell_type": "code",
   "execution_count": 62,
   "metadata": {},
   "outputs": [
    {
     "name": "stdout",
     "output_type": "stream",
     "text": [
      "dict_values(['Ford', 'Mustang', 1964, False, ['red', 'white', 'blue'], 51000])\n"
     ]
    }
   ],
   "source": [
    "#Get a list of the values\n",
    "\n",
    "x = thisdict.values()\n",
    "\n",
    "print(x)"
   ]
  },
  {
   "cell_type": "markdown",
   "metadata": {},
   "source": [
    "Exercise 2: Write a Python script to add a key to a dictionary. Go to the editor\n",
    "\n",
    "Sample Dictionary : {0: 10, 1: 20}\n",
    "Expected Result : {0: 10, 1: 20, 2: 30}"
   ]
  },
  {
   "cell_type": "code",
   "execution_count": null,
   "metadata": {},
   "outputs": [],
   "source": [
    "d = {0:10, 1:20}\n",
    "print(d)\n",
    "\n",
    "d.update({2:30})\n",
    "print(d)\n"
   ]
  },
  {
   "cell_type": "markdown",
   "metadata": {},
   "source": [
    "Exercise 3: Write a Python script to check whether a given key already exists in a dictionary."
   ]
  },
  {
   "cell_type": "code",
   "execution_count": 74,
   "metadata": {},
   "outputs": [
    {
     "name": "stdout",
     "output_type": "stream",
     "text": [
      "{'student1': 5, 'student2': 10, 'student3': 30, 'student4': 40, 'student5': 50, 'student6': 60}\n",
      "True\n",
      "False\n"
     ]
    }
   ],
   "source": [
    "def key_in_dict(d, key):\n",
    "    return (key in d) \n",
    "\n",
    "d = {'student1': 5, 'student2': 10, 'student3': 30, 'student4': 40, 'student5': 50, 'student6': 60}\n",
    "\n",
    "print(d)\n",
    "\n",
    "print(key_in_dict(d,'student1'))\n",
    "\n",
    "print(key_in_dict(d,'student10'))"
   ]
  },
  {
   "attachments": {},
   "cell_type": "markdown",
   "metadata": {},
   "source": [
    "Exercise 4: \n",
    "Write a Python script to generate and print a dictionary that contains a number (between 1 and n) in the form (x, x*x).\n",
    "\n",
    "Sample Dictionary ( n = 5) :\n",
    "Expected Output : {1: 1, 2: 4, 3: 9, 4: 16, 5: 25}"
   ]
  },
  {
   "cell_type": "code",
   "execution_count": 75,
   "metadata": {},
   "outputs": [
    {
     "name": "stdout",
     "output_type": "stream",
     "text": [
      "Input a number 10\n",
      "{1: 1, 2: 4, 3: 9, 4: 16, 5: 25, 6: 36, 7: 49, 8: 64, 9: 81, 10: 100}\n"
     ]
    }
   ],
   "source": [
    "n=int(input(\"Input a number \"))\n",
    "\n",
    "d = dict()\n",
    "\n",
    "for x in range(1,n+1):\n",
    "    d[x]=x*x\n",
    "\n",
    "print(d) \n"
   ]
  },
  {
   "cell_type": "markdown",
   "metadata": {},
   "source": [
    "##### List"
   ]
  },
  {
   "cell_type": "markdown",
   "metadata": {},
   "source": [
    "Exercise 1: Write a Python program to sum all the items in a list. "
   ]
  },
  {
   "cell_type": "code",
   "execution_count": 76,
   "metadata": {},
   "outputs": [
    {
     "name": "stdout",
     "output_type": "stream",
     "text": [
      "-5\n"
     ]
    }
   ],
   "source": [
    "def sum_list(items):\n",
    "    sum_numbers = 0\n",
    "    for x in items:\n",
    "        sum_numbers += x\n",
    "    return sum_numbers\n",
    "\n",
    "print(sum_list([1,2,-8]))\n"
   ]
  }
 ],
 "metadata": {
  "kernelspec": {
   "display_name": "Python 3",
   "language": "python",
   "name": "python3"
  },
  "language_info": {
   "codemirror_mode": {
    "name": "ipython",
    "version": 3
   },
   "file_extension": ".py",
   "mimetype": "text/x-python",
   "name": "python",
   "nbconvert_exporter": "python",
   "pygments_lexer": "ipython3",
   "version": "3.7.3"
  }
 },
 "nbformat": 4,
 "nbformat_minor": 2
}
